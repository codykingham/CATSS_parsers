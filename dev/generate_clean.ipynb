{
 "cells": [
  {
   "cell_type": "markdown",
   "metadata": {},
   "source": [
    "# Generate Clean Dataset"
   ]
  },
  {
   "cell_type": "markdown",
   "metadata": {},
   "source": [
    "The clean dataset is a modernization of the CATSS Database, presented with minimal changes, in UTF8, exported as JSON."
   ]
  },
  {
   "cell_type": "code",
   "execution_count": 71,
   "metadata": {},
   "outputs": [],
   "source": [
    "import re\n",
    "from pathlib import Path\n",
    "from greekutils import beta2unicode # do: pip install greek-utils==0.2\n",
    "\n",
    "data = Path('../source/')"
   ]
  },
  {
   "cell_type": "code",
   "execution_count": 122,
   "metadata": {},
   "outputs": [],
   "source": [
    "# CCAT transcription to UTF8\n",
    "# Greek to be handled by greekutils\n",
    "\n",
    "# Hebrew\n",
    "# first pattern to match is used\n",
    "trans2utf8 = [\n",
    "    (r'\\)', 'א'),\n",
    "    (r'B', 'ב'),\n",
    "    (r'G', 'ג'),\n",
    "    (r'D', 'ד'),\n",
    "    (r'H', 'ה'),\n",
    "    (r'W', 'ו'),\n",
    "    (r'Z', 'ז'),\n",
    "    (r'X', 'ח'),\n",
    "    (r'\\+', 'ט'),\n",
    "    (r'Y', 'י'),\n",
    "    (r'.*K\\b', 'ך'),\n",
    "    (r'K', 'כ'),\n",
    "    (r'L', 'ל'),\n",
    "    (r'.*M\\b', 'ם'),\n",
    "    (r'M', 'מ'),\n",
    "    (r'.*N\\b', 'ן'),\n",
    "    (r'N', 'נ'),\n",
    "    (r'S', 'ס'),\n",
    "    (r'\\(', 'ע'),\n",
    "    (r'.*P\\b', 'ף'),\n",
    "    (r'P', 'פ'),\n",
    "    (r'.*C\\b', 'ץ'),\n",
    "    (r'C', 'צ'),\n",
    "    (r'Q', 'ק'),\n",
    "    (r'R', 'ר'),\n",
    "    (r'&', 'שׂ'),\n",
    "    (r'\\$', 'שׁ'),\n",
    "    (r'T', 'ת'),\n",
    "    (r'-', '־'),\n",
    "    (r'\\\\', ''),\n",
    "    (r' ', ' '),\n",
    "]\n",
    "\n",
    "trans2utf8 = [(re.compile(patt), utf8) for patt, utf8 in trans2utf8]\n",
    "\n",
    "def utf8_hebrew(string):\n",
    "    \"\"\"Convert transcribed Hebrew to UTF8 Hebrew\"\"\"\n",
    "    utf8_string = ''\n",
    "    for i, c in enumerate(string):\n",
    "        for patt, utf8 in trans2utf8:\n",
    "            if patt.match(string, i, i+1): # match at specific position\n",
    "                utf8_string += utf8\n",
    "                break\n",
    "    return utf8_string"
   ]
  },
  {
   "cell_type": "markdown",
   "metadata": {},
   "source": [
    "Demonstrate the functions."
   ]
  },
  {
   "cell_type": "code",
   "execution_count": 123,
   "metadata": {},
   "outputs": [
    {
     "data": {
      "text/plain": [
       "'καὶ ἀκατασκεύαστοσ'"
      ]
     },
     "execution_count": 123,
     "metadata": {},
     "output_type": "execute_result"
    }
   ],
   "source": [
    "beta2unicode.convert('KAI\\ A)KATASKEU/ASTOS')"
   ]
  },
  {
   "cell_type": "code",
   "execution_count": 124,
   "metadata": {},
   "outputs": [
    {
     "data": {
      "text/plain": [
       "'היתה שׁם בבית־לחם'"
      ]
     },
     "execution_count": 124,
     "metadata": {},
     "output_type": "execute_result"
    }
   ],
   "source": [
    "utf8_hebrew('HYTH $M B\\BYT-LXM')"
   ]
  },
  {
   "cell_type": "code",
   "execution_count": 108,
   "metadata": {},
   "outputs": [
    {
     "data": {
      "text/plain": [
       "<re.Match object; span=(3, 4), match='K'>"
      ]
     },
     "execution_count": 108,
     "metadata": {},
     "output_type": "execute_result"
    }
   ],
   "source": [
    "test = re.compile(r'.*K\\b')\n",
    "\n",
    "test.match('PARK ISK', 3, 4)"
   ]
  },
  {
   "cell_type": "markdown",
   "metadata": {},
   "source": [
    "## Exploration"
   ]
  },
  {
   "cell_type": "code",
   "execution_count": 7,
   "metadata": {},
   "outputs": [],
   "source": [
    "file2text = {}\n",
    "\n",
    "for file in data.glob('*.par'):\n",
    "    file2text[file.stem] = file.read_text().strip().split('\\n')"
   ]
  }
 ],
 "metadata": {
  "kernelspec": {
   "display_name": "Python 3",
   "language": "python",
   "name": "python3"
  },
  "language_info": {
   "codemirror_mode": {
    "name": "ipython",
    "version": 3
   },
   "file_extension": ".py",
   "mimetype": "text/x-python",
   "name": "python",
   "nbconvert_exporter": "python",
   "pygments_lexer": "ipython3",
   "version": "3.8.0"
  }
 },
 "nbformat": 4,
 "nbformat_minor": 4
}
